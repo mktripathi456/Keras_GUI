{
 "cells": [
  {
   "cell_type": "code",
   "execution_count": 3,
   "metadata": {},
   "outputs": [],
   "source": [
    "import matplotlib.pyplot as plt\n",
    "import matplotlib.gridspec as gridspec\n",
    "import pandas as pd"
   ]
  },
  {
   "cell_type": "code",
   "execution_count": 4,
   "metadata": {},
   "outputs": [],
   "source": [
    "from tensorflow.keras.layers import Input,Activation,Add,Dense,Conv2D,Dropout,Flatten,MaxPool2D,BatchNormalization,Conv2DTranspose\n",
    "from tensorflow.keras.models import Model,load_model\n",
    "from tensorflow.keras.utils import plot_model\n",
    "from tensorflow.keras.preprocessing.image import ImageDataGenerator\n",
    "from tensorflow.keras.callbacks import Callback\n",
    "from tensorflow.keras import optimizers\n",
    "from tensorflow.keras import losses\n",
    "from tensorflow.keras.utils import multi_gpu_model"
   ]
  },
  {
   "cell_type": "code",
   "execution_count": 17,
   "metadata": {},
   "outputs": [
    {
     "name": "stderr",
     "output_type": "stream",
     "text": [
      "Using TensorFlow backend.\n"
     ]
    }
   ],
   "source": [
    "from keras.layers import Input,Activation,Add,Dense,Conv2D,Dropout,Flatten,MaxPool2D,BatchNormalization,Conv2DTranspose\n",
    "from keras.models import Model,load_model\n",
    "from keras.utils import plot_model\n",
    "from keras.preprocessing.image import ImageDataGenerator\n",
    "from keras.callbacks import Callback\n",
    "from keras import optimizers\n",
    "from keras import losses\n",
    "from keras.utils import multi_gpu_model"
   ]
  },
  {
   "cell_type": "code",
   "execution_count": 5,
   "metadata": {},
   "outputs": [
    {
     "name": "stdout",
     "output_type": "stream",
     "text": [
      "Found 42000 images belonging to 10 classes.\n"
     ]
    }
   ],
   "source": [
    "train_generator = ImageDataGenerator(rescale=1./255,validation_split=0.2).flow_from_directory('/mnt/CommonDrive/Pyqt/trainingSet',target_size=(28, 28),batch_size=3,class_mode='categorical')"
   ]
  },
  {
   "cell_type": "code",
   "execution_count": 2,
   "metadata": {},
   "outputs": [
    {
     "ename": "NameError",
     "evalue": "name 'pd' is not defined",
     "output_type": "error",
     "traceback": [
      "\u001b[0;31m---------------------------------------------------------------------------\u001b[0m",
      "\u001b[0;31mNameError\u001b[0m                                 Traceback (most recent call last)",
      "\u001b[0;32m<ipython-input-2-b70e043ff69c>\u001b[0m in \u001b[0;36m<module>\u001b[0;34m\u001b[0m\n\u001b[0;32m----> 1\u001b[0;31m \u001b[0mdataframe\u001b[0m\u001b[0;34m=\u001b[0m\u001b[0mpd\u001b[0m\u001b[0;34m.\u001b[0m\u001b[0mread_csv\u001b[0m\u001b[0;34m(\u001b[0m\u001b[0;34m'CIFAR10/trainLabels.csv'\u001b[0m\u001b[0;34m)\u001b[0m\u001b[0;34m\u001b[0m\u001b[0;34m\u001b[0m\u001b[0m\n\u001b[0m",
      "\u001b[0;31mNameError\u001b[0m: name 'pd' is not defined"
     ]
    }
   ],
   "source": [
    "dataframe=pd.read_csv('CIFAR10/trainLabels.csv')"
   ]
  },
  {
   "cell_type": "code",
   "execution_count": 12,
   "metadata": {},
   "outputs": [
    {
     "data": {
      "text/html": [
       "<div>\n",
       "<style scoped>\n",
       "    .dataframe tbody tr th:only-of-type {\n",
       "        vertical-align: middle;\n",
       "    }\n",
       "\n",
       "    .dataframe tbody tr th {\n",
       "        vertical-align: top;\n",
       "    }\n",
       "\n",
       "    .dataframe thead th {\n",
       "        text-align: right;\n",
       "    }\n",
       "</style>\n",
       "<table border=\"1\" class=\"dataframe\">\n",
       "  <thead>\n",
       "    <tr style=\"text-align: right;\">\n",
       "      <th></th>\n",
       "      <th>label</th>\n",
       "      <th>id</th>\n",
       "      <th>Type</th>\n",
       "    </tr>\n",
       "  </thead>\n",
       "  <tbody>\n",
       "    <tr>\n",
       "      <th>0</th>\n",
       "      <td>frog</td>\n",
       "      <td>1.png</td>\n",
       "      <td>Animal</td>\n",
       "    </tr>\n",
       "    <tr>\n",
       "      <th>1</th>\n",
       "      <td>truck</td>\n",
       "      <td>2.png</td>\n",
       "      <td>Vehicle</td>\n",
       "    </tr>\n",
       "    <tr>\n",
       "      <th>2</th>\n",
       "      <td>truck</td>\n",
       "      <td>3.png</td>\n",
       "      <td>Vehicle</td>\n",
       "    </tr>\n",
       "    <tr>\n",
       "      <th>3</th>\n",
       "      <td>deer</td>\n",
       "      <td>4.png</td>\n",
       "      <td>Animal</td>\n",
       "    </tr>\n",
       "    <tr>\n",
       "      <th>4</th>\n",
       "      <td>automobile</td>\n",
       "      <td>5.png</td>\n",
       "      <td>Vehicle</td>\n",
       "    </tr>\n",
       "  </tbody>\n",
       "</table>\n",
       "</div>"
      ],
      "text/plain": [
       "        label     id     Type\n",
       "0        frog  1.png   Animal\n",
       "1       truck  2.png  Vehicle\n",
       "2       truck  3.png  Vehicle\n",
       "3        deer  4.png   Animal\n",
       "4  automobile  5.png  Vehicle"
      ]
     },
     "execution_count": 12,
     "metadata": {},
     "output_type": "execute_result"
    }
   ],
   "source": [
    "dataframe.head()"
   ]
  },
  {
   "cell_type": "code",
   "execution_count": 21,
   "metadata": {},
   "outputs": [
    {
     "name": "stdout",
     "output_type": "stream",
     "text": [
      "<class 'pandas.core.frame.DataFrame'>\n",
      "RangeIndex: 50000 entries, 0 to 49999\n",
      "Data columns (total 3 columns):\n",
      "label    50000 non-null object\n",
      "id       50000 non-null object\n",
      "Type     50000 non-null object\n",
      "dtypes: object(3)\n",
      "memory usage: 1.1+ MB\n"
     ]
    }
   ],
   "source": [
    "dataframe.info()"
   ]
  },
  {
   "cell_type": "code",
   "execution_count": 65,
   "metadata": {},
   "outputs": [
    {
     "name": "stdout",
     "output_type": "stream",
     "text": [
      "Found 50000 images.\n"
     ]
    }
   ],
   "source": [
    "train_generator = ImageDataGenerator(rescale=1./255,validation_split=0.0).flow_from_dataframe(dataframe=dataframe, directory='CIFAR10/train/', x_col='id', y_col=['label','Type'], class_mode=None, target_size=(32, 32), batch_size=1)"
   ]
  },
  {
   "cell_type": "code",
   "execution_count": 6,
   "metadata": {},
   "outputs": [],
   "source": [
    "x=next(train_generator)"
   ]
  },
  {
   "cell_type": "code",
   "execution_count": 7,
   "metadata": {},
   "outputs": [
    {
     "data": {
      "text/plain": [
       "(2, tuple)"
      ]
     },
     "execution_count": 7,
     "metadata": {},
     "output_type": "execute_result"
    }
   ],
   "source": [
    "len(x),type(x)"
   ]
  },
  {
   "cell_type": "code",
   "execution_count": 8,
   "metadata": {},
   "outputs": [
    {
     "name": "stdout",
     "output_type": "stream",
     "text": [
      "(3, 28, 28, 3)\n",
      "(3, 10)\n"
     ]
    }
   ],
   "source": [
    "for i in x:\n",
    "    print(i.shape)"
   ]
  },
  {
   "cell_type": "code",
   "execution_count": 74,
   "metadata": {},
   "outputs": [],
   "source": [
    "def cust_gen(gen1,gen2):\n",
    "    try:\n",
    "        while(True):\n",
    "            g1x,g1y= next(gen1)\n",
    "            g2x,g2y = next(gen2)\n",
    "            yield [g1x,g2x],[g1y,g2y]\n",
    "    except:\n",
    "        pass"
   ]
  },
  {
   "cell_type": "code",
   "execution_count": 4,
   "metadata": {},
   "outputs": [],
   "source": [
    "x1=Input(shape=(28,28,3,))\n",
    "x3=Conv2D(2,kernel_size=3,strides=1, padding='same',activation=None)(x1)\n",
    "x31=Conv2D(4,kernel_size=3,strides=1, padding='same',activation=None)(x3)\n",
    "x32=MaxPool2D()(x31)\n",
    "x33=Conv2D(8,kernel_size=3,strides=1, padding='same',activation=None)(x32)\n",
    "x4=MaxPool2D()(x33)\n",
    "x5=Flatten()(x4)\n",
    "x6=Dropout(0.5)(x5)\n",
    "\n",
    "x8=Dense(10, activation=None)(x6)\n",
    "x7=Activation('softmax')(x8)\n",
    "\n",
    "x9=Dense(10, activation=None)(x6)\n",
    "x10=Dense(2, activation=None)(x9)\n",
    "x11=Activation('softmax')(x10)\n",
    "\n",
    "model = Model(inputs=x1, outputs=[x7,x11])"
   ]
  },
  {
   "cell_type": "code",
   "execution_count": 9,
   "metadata": {},
   "outputs": [
    {
     "name": "stdout",
     "output_type": "stream",
     "text": [
      "WARNING:tensorflow:From /home/murlikrishnan/miniconda3/lib/python3.6/site-packages/tensorflow/python/ops/resource_variable_ops.py:435: colocate_with (from tensorflow.python.framework.ops) is deprecated and will be removed in a future version.\n",
      "Instructions for updating:\n",
      "Colocations handled automatically by placer.\n",
      "WARNING:tensorflow:From /home/murlikrishnan/miniconda3/lib/python3.6/site-packages/tensorflow/python/keras/layers/core.py:143: calling dropout (from tensorflow.python.ops.nn_ops) with keep_prob is deprecated and will be removed in a future version.\n",
      "Instructions for updating:\n",
      "Please use `rate` instead of `keep_prob`. Rate should be set to `rate = 1 - keep_prob`.\n"
     ]
    }
   ],
   "source": [
    "x1=Input(shape=(28,28,3,))\n",
    "x3=Conv2D(2,kernel_size=3,strides=1, padding='same',activation=None)(x1)\n",
    "x31=Conv2D(4,kernel_size=3,strides=1, padding='same',activation=None)(x3)\n",
    "x32=MaxPool2D()(x31)\n",
    "x33=Conv2D(8,kernel_size=3,strides=1, padding='same',activation=None)(x32)\n",
    "x4=MaxPool2D()(x33)\n",
    "x5=Flatten()(x4)\n",
    "x6=Dropout(0.5)(x5)\n",
    "x8=Dense(10, activation=None)(x6)\n",
    "x7=Activation('softmax')(x8)\n",
    "x2=(x7)\n",
    "model = Model(inputs=x1, outputs=x2)"
   ]
  },
  {
   "cell_type": "code",
   "execution_count": 6,
   "metadata": {},
   "outputs": [],
   "source": [
    "plot_model(model,'temp3.png')"
   ]
  },
  {
   "cell_type": "code",
   "execution_count": 7,
   "metadata": {},
   "outputs": [],
   "source": [
    "model.compile(loss='categorical_crossentropy', optimizer=optimizers.Adam(lr=0.001, clipvalue=1.0), metrics=['accuracy'])"
   ]
  },
  {
   "cell_type": "code",
   "execution_count": 119,
   "metadata": {},
   "outputs": [
    {
     "name": "stdout",
     "output_type": "stream",
     "text": [
      "Epoch 1/20\n",
      "15/15 [==============================] - 5s 343ms/step - loss: 2.6232 - acc: 0.1333\n",
      "Epoch 2/20\n",
      "15/15 [==============================] - 2s 155ms/step - loss: 2.3483 - acc: 0.2222\n",
      "Epoch 3/20\n",
      "15/15 [==============================] - 2s 164ms/step - loss: 2.2457 - acc: 0.1111\n",
      "Epoch 4/20\n",
      "15/15 [==============================] - 3s 182ms/step - loss: 1.9881 - acc: 0.2889\n",
      "Epoch 5/20\n",
      "15/15 [==============================] - 2s 167ms/step - loss: 2.1482 - acc: 0.2889\n",
      "Epoch 6/20\n",
      "15/15 [==============================] - 3s 181ms/step - loss: 1.9020 - acc: 0.3333\n",
      "Epoch 7/20\n",
      "15/15 [==============================] - 2s 158ms/step - loss: 1.8533 - acc: 0.3333\n",
      "Epoch 8/20\n",
      "15/15 [==============================] - 3s 173ms/step - loss: 1.7616 - acc: 0.4444\n",
      "Epoch 9/20\n",
      "15/15 [==============================] - 2s 150ms/step - loss: 1.8957 - acc: 0.3556\n",
      "Epoch 10/20\n",
      "15/15 [==============================] - 2s 153ms/step - loss: 1.5373 - acc: 0.4000\n",
      "Epoch 11/20\n",
      "15/15 [==============================] - 2s 165ms/step - loss: 1.6318 - acc: 0.3778\n",
      "Epoch 12/20\n",
      "15/15 [==============================] - 2s 166ms/step - loss: 1.4498 - acc: 0.4889\n",
      "Epoch 13/20\n",
      "15/15 [==============================] - 3s 167ms/step - loss: 1.3885 - acc: 0.5556\n",
      "Epoch 14/20\n",
      "15/15 [==============================] - 3s 167ms/step - loss: 1.3589 - acc: 0.5111\n",
      "Epoch 15/20\n",
      "15/15 [==============================] - 2s 159ms/step - loss: 1.2114 - acc: 0.6444\n",
      "Epoch 16/20\n",
      "15/15 [==============================] - 3s 226ms/step - loss: 1.1418 - acc: 0.6889\n",
      "Epoch 17/20\n",
      "15/15 [==============================] - 3s 174ms/step - loss: 1.3122 - acc: 0.5111\n",
      "Epoch 18/20\n",
      "15/15 [==============================] - 2s 158ms/step - loss: 1.5346 - acc: 0.4444\n",
      "Epoch 19/20\n",
      "15/15 [==============================] - 2s 164ms/step - loss: 1.1092 - acc: 0.6667\n",
      "Epoch 20/20\n",
      "15/15 [==============================] - 2s 156ms/step - loss: 0.8979 - acc: 0.6889\n"
     ]
    },
    {
     "data": {
      "text/plain": [
       "<keras.callbacks.History at 0x7fec537c5b70>"
      ]
     },
     "execution_count": 119,
     "metadata": {},
     "output_type": "execute_result"
    }
   ],
   "source": [
    "model.fit(train_generator, steps_per_epoch=15,epochs=20)"
   ]
  },
  {
   "cell_type": "code",
   "execution_count": 120,
   "metadata": {},
   "outputs": [],
   "source": [
    "model.save(\"temp_model.hd5\")"
   ]
  },
  {
   "cell_type": "code",
   "execution_count": 3,
   "metadata": {},
   "outputs": [],
   "source": [
    "model=load_model(\"temp_model.hd5\")"
   ]
  },
  {
   "cell_type": "code",
   "execution_count": 4,
   "metadata": {},
   "outputs": [],
   "source": [
    "outputs = [layer.output for layer in model.layers]"
   ]
  },
  {
   "cell_type": "code",
   "execution_count": 5,
   "metadata": {},
   "outputs": [
    {
     "data": {
      "text/plain": [
       "[<tf.Tensor 'input_8:0' shape=(?, 28, 28, 3) dtype=float32>,\n",
       " <tf.Tensor 'conv2d_25/BiasAdd:0' shape=(?, 28, 28, 2) dtype=float32>,\n",
       " <tf.Tensor 'max_pooling2d_19/MaxPool:0' shape=(?, 14, 14, 2) dtype=float32>,\n",
       " <tf.Tensor 'batch_normalization_25/cond/Merge:0' shape=(?, 14, 14, 2) dtype=float32>,\n",
       " <tf.Tensor 'conv2d_26/BiasAdd:0' shape=(?, 14, 14, 4) dtype=float32>,\n",
       " <tf.Tensor 'max_pooling2d_20/MaxPool:0' shape=(?, 7, 7, 4) dtype=float32>,\n",
       " <tf.Tensor 'batch_normalization_26/cond/Merge:0' shape=(?, 7, 7, 4) dtype=float32>,\n",
       " <tf.Tensor 'conv2d_27/BiasAdd:0' shape=(?, 7, 7, 8) dtype=float32>,\n",
       " <tf.Tensor 'max_pooling2d_21/MaxPool:0' shape=(?, 3, 3, 8) dtype=float32>,\n",
       " <tf.Tensor 'batch_normalization_27/cond/Merge:0' shape=(?, 3, 3, 8) dtype=float32>,\n",
       " <tf.Tensor 'conv2d_28/BiasAdd:0' shape=(?, 3, 3, 16) dtype=float32>,\n",
       " <tf.Tensor 'batch_normalization_28/cond/Merge:0' shape=(?, 3, 3, 16) dtype=float32>,\n",
       " <tf.Tensor 'flatten_7/Reshape:0' shape=(?, ?) dtype=float32>,\n",
       " <tf.Tensor 'dense_22/BiasAdd:0' shape=(?, 10) dtype=float32>,\n",
       " <tf.Tensor 'dense_23/BiasAdd:0' shape=(?, 10) dtype=float32>,\n",
       " <tf.Tensor 'dense_24/BiasAdd:0' shape=(?, 10) dtype=float32>,\n",
       " <tf.Tensor 'activation_7/Softmax:0' shape=(?, 10) dtype=float32>]"
      ]
     },
     "execution_count": 5,
     "metadata": {},
     "output_type": "execute_result"
    }
   ],
   "source": [
    "outputs"
   ]
  },
  {
   "cell_type": "code",
   "execution_count": 6,
   "metadata": {},
   "outputs": [],
   "source": [
    "intermed_model = Model(inputs=model.input,outputs=[i for i in outputs[1:]])"
   ]
  },
  {
   "cell_type": "code",
   "execution_count": 7,
   "metadata": {},
   "outputs": [
    {
     "data": {
      "text/plain": [
       "[<tf.Tensor 'activation_7/Softmax:0' shape=(?, 10) dtype=float32>]"
      ]
     },
     "execution_count": 7,
     "metadata": {},
     "output_type": "execute_result"
    }
   ],
   "source": [
    "model.outputs"
   ]
  },
  {
   "cell_type": "code",
   "execution_count": 8,
   "metadata": {},
   "outputs": [
    {
     "data": {
      "text/plain": [
       "[<tf.Tensor 'conv2d_25/BiasAdd:0' shape=(?, 28, 28, 2) dtype=float32>,\n",
       " <tf.Tensor 'max_pooling2d_19/MaxPool:0' shape=(?, 14, 14, 2) dtype=float32>,\n",
       " <tf.Tensor 'batch_normalization_25/cond/Merge:0' shape=(?, 14, 14, 2) dtype=float32>,\n",
       " <tf.Tensor 'conv2d_26/BiasAdd:0' shape=(?, 14, 14, 4) dtype=float32>,\n",
       " <tf.Tensor 'max_pooling2d_20/MaxPool:0' shape=(?, 7, 7, 4) dtype=float32>,\n",
       " <tf.Tensor 'batch_normalization_26/cond/Merge:0' shape=(?, 7, 7, 4) dtype=float32>,\n",
       " <tf.Tensor 'conv2d_27/BiasAdd:0' shape=(?, 7, 7, 8) dtype=float32>,\n",
       " <tf.Tensor 'max_pooling2d_21/MaxPool:0' shape=(?, 3, 3, 8) dtype=float32>,\n",
       " <tf.Tensor 'batch_normalization_27/cond/Merge:0' shape=(?, 3, 3, 8) dtype=float32>,\n",
       " <tf.Tensor 'conv2d_28/BiasAdd:0' shape=(?, 3, 3, 16) dtype=float32>,\n",
       " <tf.Tensor 'batch_normalization_28/cond/Merge:0' shape=(?, 3, 3, 16) dtype=float32>,\n",
       " <tf.Tensor 'flatten_7/Reshape:0' shape=(?, ?) dtype=float32>,\n",
       " <tf.Tensor 'dense_22/BiasAdd:0' shape=(?, 10) dtype=float32>,\n",
       " <tf.Tensor 'dense_23/BiasAdd:0' shape=(?, 10) dtype=float32>,\n",
       " <tf.Tensor 'dense_24/BiasAdd:0' shape=(?, 10) dtype=float32>,\n",
       " <tf.Tensor 'activation_7/Softmax:0' shape=(?, 10) dtype=float32>]"
      ]
     },
     "execution_count": 8,
     "metadata": {},
     "output_type": "execute_result"
    }
   ],
   "source": [
    "intermed_model.outputs"
   ]
  },
  {
   "cell_type": "code",
   "execution_count": 50,
   "metadata": {},
   "outputs": [],
   "source": [
    "from keras.preprocessing import image\n",
    "import numpy as np\n",
    "img2=image.load_img('MNIST/img_1.jpg')"
   ]
  },
  {
   "cell_type": "code",
   "execution_count": 51,
   "metadata": {},
   "outputs": [],
   "source": [
    "img2=image.img_to_array(img2)"
   ]
  },
  {
   "cell_type": "code",
   "execution_count": 54,
   "metadata": {},
   "outputs": [],
   "source": [
    " img2 = np.expand_dims(img2, axis=0)"
   ]
  },
  {
   "cell_type": "code",
   "execution_count": 55,
   "metadata": {},
   "outputs": [
    {
     "data": {
      "text/plain": [
       "((1, 28, 28, 3), 4)"
      ]
     },
     "execution_count": 55,
     "metadata": {},
     "output_type": "execute_result"
    }
   ],
   "source": [
    "img2.shape,img2.ndim"
   ]
  },
  {
   "cell_type": "code",
   "execution_count": 56,
   "metadata": {},
   "outputs": [
    {
     "data": {
      "image/png": "[encoded data removed]",
      "text/plain": [
       "<PIL.Image.Image image mode=RGB size=28x28 at 0x7F7B259B24E0>"
      ]
     },
     "execution_count": 56,
     "metadata": {},
     "output_type": "execute_result"
    }
   ],
   "source": [
    "o_image=image.array_to_img(img2[0])\n",
    "o_image"
   ]
  },
  {
   "cell_type": "code",
   "execution_count": 14,
   "metadata": {},
   "outputs": [],
   "source": [
    "out1=model.predict(img2)"
   ]
  },
  {
   "cell_type": "code",
   "execution_count": 15,
   "metadata": {},
   "outputs": [],
   "source": [
    "layer_names = [layer.name for layer in intermed_model.layers]\n",
    "out2=intermed_model.predict(img2)"
   ]
  },
  {
   "cell_type": "code",
   "execution_count": 16,
   "metadata": {},
   "outputs": [
    {
     "name": "stdout",
     "output_type": "stream",
     "text": [
      "2\n",
      "2\n",
      "2\n",
      "4\n",
      "4\n",
      "4\n",
      "8\n",
      "8\n",
      "8\n",
      "16\n",
      "16\n"
     ]
    }
   ],
   "source": [
    "o_images={}\n",
    "for name,out in zip(layer_names,out2):\n",
    "    if out.ndim==4:\n",
    "        o_images[name]=[out[0][...,j] for j in range(out.shape[3])]\n",
    "        print(out.shape[3])"
   ]
  },
  {
   "cell_type": "code",
   "execution_count": 18,
   "metadata": {},
   "outputs": [
    {
     "data": {
      "text/plain": [
       "dict_keys(['input_8', 'conv2d_25', 'max_pooling2d_19', 'batch_normalization_25', 'conv2d_26', 'max_pooling2d_20', 'batch_normalization_26', 'conv2d_27', 'max_pooling2d_21', 'batch_normalization_27', 'conv2d_28'])"
      ]
     },
     "execution_count": 18,
     "metadata": {},
     "output_type": "execute_result"
    }
   ],
   "source": [
    "o_images.keys()"
   ]
  },
  {
   "cell_type": "code",
   "execution_count": 19,
   "metadata": {},
   "outputs": [
    {
     "data": {
      "text/plain": [
       "(28, 28)"
      ]
     },
     "execution_count": 19,
     "metadata": {},
     "output_type": "execute_result"
    }
   ],
   "source": [
    "o_images['input_8'][1].shape"
   ]
  },
  {
   "cell_type": "code",
   "execution_count": 17,
   "metadata": {},
   "outputs": [
    {
     "data": {
      "image/png": "[encoded data removed]",
      "text/plain": [
       "<Figure size 432x288 with 1 Axes>"
      ]
     },
     "metadata": {
      "needs_background": "light"
     },
     "output_type": "display_data"
    }
   ],
   "source": [
    "k=plt.imshow(o_images['conv2d_25'][1])"
   ]
  },
  {
   "cell_type": "code",
   "execution_count": 35,
   "metadata": {},
   "outputs": [
    {
     "name": "stdout",
     "output_type": "stream",
     "text": [
      "<class 'numpy.ndarray'>\n"
     ]
    },
    {
     "data": {
      "image/png": "[encoded data removed]",
      "text/plain": [
       "<Figure size 864x864 with 24 Axes>"
      ]
     },
     "metadata": {
      "needs_background": "light"
     },
     "output_type": "display_data"
    }
   ],
   "source": [
    "def plot_cust(nam):\n",
    "    fig, axarr = plt.subplots(4,4,figsize=(12, 12))\n",
    "#     fig.subplots_adjust(wspace=0.1, hspace=0.1)\n",
    "#     axarr.get_shared_y_axes()\n",
    "    np.vectorize(lambda ax:ax.axis('off'))(axarr)\n",
    "    print(type(axarr))\n",
    "    for i in range(len(o_images[nam])):\n",
    "        ax = fig.add_subplot(6,6,i+1)\n",
    "#         axarr.get_shared_y_axes().join(secondary_ax[0], secondary_ax[i])\n",
    "        ax.imshow(o_images[nam][i],)# cmap='gray',)\n",
    "plot_cust('conv2d_27')\n",
    "# plot_cust('conv2d_3')"
   ]
  },
  {
   "cell_type": "code",
   "execution_count": 44,
   "metadata": {},
   "outputs": [],
   "source": [
    "%matplotlib qt"
   ]
  },
  {
   "cell_type": "code",
   "execution_count": 25,
   "metadata": {},
   "outputs": [],
   "source": [
    "%matplotlib inline"
   ]
  },
  {
   "cell_type": "code",
   "execution_count": 48,
   "metadata": {},
   "outputs": [
    {
     "name": "stdout",
     "output_type": "stream",
     "text": [
      "<mpl_toolkits.axes_grid1.axes_grid.ImageGrid object at 0x7f7b256410f0>\n"
     ]
    },
    {
     "data": {
      "image/png": "[encoded data removed]",
      "text/plain": [
       "<Figure size 1440x1440 with 6 Axes>"
      ]
     },
     "metadata": {
      "needs_background": "light"
     },
     "output_type": "display_data"
    }
   ],
   "source": [
    "from mpl_toolkits.axes_grid1 import AxesGrid, ImageGrid\n",
    "from numpy.random import rand\n",
    "\n",
    "fig = plt.figure(1, (20, 20))\n",
    "def cust_fig(layer,num,name):\n",
    "    num_layer=len(layer)\n",
    "    row_num=num_layer//3+1\n",
    "    col_num=3\n",
    "    grid1 = ImageGrid(fig, num,\n",
    "                nrows_ncols = (row_num,col_num),\n",
    "                share_all=True,\n",
    "                label_mode = \"L\",\n",
    "                aspect =True,\n",
    "                axes_pad=0.1,\n",
    "                )\n",
    "    print(grid1)\n",
    "    for i in grid1:\n",
    "        i.axis('off')\n",
    "    for i in range(num_layer):\n",
    "        im = grid1[i].imshow(layer[i],interpolation=\"nearest\")\n",
    "        if i==0:\n",
    "            grid1[i].set_title(name,loc='left',)\n",
    "    grid1.axes_all\n",
    "    cb1 = grid1.cbar_axes[0].colorbar(im)\n",
    "    cb1.set_label_text('subfig 1')\n",
    "cust_fig(o_images['conv2d_25'],231,'conv2d_27')\n",
    "plt.show()"
   ]
  },
  {
   "cell_type": "code",
   "execution_count": 21,
   "metadata": {},
   "outputs": [
    {
     "data": {
      "image/png": "[encoded data removed]",
      "text/plain": [
       "<Figure size 432x288 with 20 Axes>"
      ]
     },
     "metadata": {
      "needs_background": "light"
     },
     "output_type": "display_data"
    }
   ],
   "source": [
    "from mpl_toolkits.axes_grid1 import AxesGrid, ImageGrid\n",
    "from numpy.random import rand\n",
    "\n",
    "fig = plt.figure(1)\n",
    "\n",
    "grid1 = ImageGrid(fig, 211,\n",
    "                nrows_ncols = (2, 4),\n",
    "                axes_pad = 0.07,\n",
    "                share_all=True,\n",
    "                label_mode = \"L\",\n",
    "                cbar_location = \"right\",\n",
    "                cbar_mode=\"single\",\n",
    "                cbar_size=\"7%\",\n",
    "                cbar_pad=\"7%\",\n",
    "                aspect = True\n",
    "                )\n",
    "\n",
    "for n in range(8):\n",
    "    im = grid1[n].imshow(rand(10,10),interpolation=\"nearest\")\n",
    "\n",
    "grid1.axes_all\n",
    "\n",
    "cb1 = grid1.cbar_axes[0].colorbar(im)\n",
    "cb1.set_label_text('subfig 1')\n",
    "\n",
    "grid2 = ImageGrid(fig, 212,\n",
    "                nrows_ncols = (1, 2),\n",
    "                axes_pad = 0.1,\n",
    "                label_mode = \"L\",\n",
    "                share_all = False,\n",
    "                cbar_location=\"right\",\n",
    "                cbar_mode=\"single\",\n",
    "                cbar_size=\"7%\",\n",
    "                cbar_pad=\"7%\",\n",
    "                aspect = True\n",
    "                )\n",
    "\n",
    "im = grid2[0].imshow(rand(10,15),interpolation=\"nearest\")\n",
    "im = grid2[1].imshow(rand(10,10),interpolation=\"nearest\")\n",
    "\n",
    "cb2 = grid2.cbar_axes[0].colorbar(im)\n",
    "cb2.set_label_text('subfig 2')\n",
    "\n",
    "plt.figtext(0.05,0.85,'(a)',size=20)\n",
    "plt.figtext(0.05,0.45,'(b)',size=20)\n",
    "\n",
    "plt.show()"
   ]
  },
  {
   "cell_type": "code",
   "execution_count": null,
   "metadata": {},
   "outputs": [],
   "source": [
    "fig, axarr = plt.subplots(6,6,figsize=(12, 12))\n",
    "# fig.set_tight_layout(True)\n",
    "np.vectorize(lambda ax:ax.axis('off'))(axarr)\n",
    "axarr[0,0].imshow(o_images[0])\n",
    "axarr[0,1].imshow(o_images[1])\n",
    "axarr[0,2].imshow(o_images[2])\n",
    "axarr[1,0].imshow(o_images[3])\n",
    "axarr[1,1].imshow(o_images[3])\n",
    "axarr[1,2].imshow(o_images[3])"
   ]
  },
  {
   "cell_type": "code",
   "execution_count": null,
   "metadata": {},
   "outputs": [],
   "source": [
    "def cifar_grid(X,Y,inds,n_col, predictions=None):\n",
    "  import matplotlib.pyplot as plt\n",
    "  if predictions is not None:\n",
    "    if Y.shape != predictions.shape:\n",
    "      print(\"Predictions must equal Y in length!\\n\")\n",
    "      return(None)\n",
    "  N = len(inds)\n",
    "  n_row = int(ceil(1.0*N/n_col))\n",
    "  fig, axes = plt.subplots(n_row,n_col,figsize=(10,10))\n",
    "  \n",
    "  clabels = labels[\"label_names\"]\n",
    "  for j in range(n_row):\n",
    "    for k in range(n_col):\n",
    "      i_inds = j*n_col+k\n",
    "      i_data = inds[i_inds]\n",
    "      \n",
    "      axes[j][k].set_axis_off()\n",
    "      if i_inds < N:\n",
    "        axes[j][k].imshow(X[i_data,...], interpolation=\"nearest\")\n",
    "        axes[j][k].set_title(label)\n",
    "        if predictions is not None:\n",
    "          pred = clabels[np.argmax(predictions[i_data,...])]\n",
    "          if label != pred:\n",
    "            label += \" n\"\n",
    "            axes[j][k].set_title(pred, color=\"red\")\n",
    "  \n",
    "  fig.set_tight_layout(True)"
   ]
  },
  {
   "cell_type": "code",
   "execution_count": null,
   "metadata": {},
   "outputs": [],
   "source": [
    "layer_names = []\n",
    "for layer in classifier.layers[:12]:\n",
    "    layer_names.append(layer.name) # Names of the layers, so you can have them as part of your plot\n",
    "    \n",
    "images_per_row = 16\n",
    "​\n",
    "for layer_name, layer_activation in zip(layer_names, activations): # Displays the feature maps\n",
    "    n_features = layer_activation.shape[-1] # Number of features in the feature map\n",
    "    size = layer_activation.shape[1] #The feature map has shape (1, size, size, n_features).\n",
    "    n_cols = n_features // images_per_row # Tiles the activation channels in this matrix\n",
    "    display_grid = np.zeros((size * n_cols, images_per_row * size))\n",
    "    for col in range(n_cols): # Tiles each filter into a big horizontal grid\n",
    "        for row in range(images_per_row):\n",
    "            channel_image = layer_activation[0,\n",
    "                                             :, :,\n",
    "                                             col * images_per_row + row]\n",
    "            channel_image -= channel_image.mean() # Post-processes the feature to make it visually palatable\n",
    "            channel_image /= channel_image.std()\n",
    "            channel_image *= 64\n",
    "            channel_image += 128\n",
    "            channel_image = np.clip(channel_image, 0, 255).astype('uint8')\n",
    "            display_grid[col * size : (col + 1) * size, # Displays the grid\n",
    "                         row * size : (row + 1) * size] = channel_image\n",
    "    scale = 1. / size\n",
    "    plt.figure(figsize=(scale * display_grid.shape[1],\n",
    "                        scale * display_grid.shape[0]))\n",
    "    plt.title(layer_name)\n",
    "    plt.grid(False)\n",
    "    plt.imshow(display_grid, aspect='auto', cmap='viridis')\n"
   ]
  },
  {
   "cell_type": "code",
   "execution_count": 187,
   "metadata": {},
   "outputs": [
    {
     "ename": "NameError",
     "evalue": "name 'convolutions' is not defined",
     "output_type": "error",
     "traceback": [
      "\u001b[0;31m---------------------------------------------------------------------------\u001b[0m",
      "\u001b[0;31mNameError\u001b[0m                                 Traceback (most recent call last)",
      "\u001b[0;32m<ipython-input-187-646f547247c8>\u001b[0m in \u001b[0;36masync-def-wrapper\u001b[0;34m()\u001b[0m\n\u001b[1;32m      4\u001b[0m        \u001b[0max\u001b[0m \u001b[0;34m=\u001b[0m \u001b[0mfig\u001b[0m\u001b[0;34m.\u001b[0m\u001b[0madd_subplot\u001b[0m\u001b[0;34m(\u001b[0m\u001b[0mn\u001b[0m\u001b[0;34m,\u001b[0m\u001b[0mn\u001b[0m\u001b[0;34m,\u001b[0m\u001b[0mi\u001b[0m\u001b[0;34m+\u001b[0m\u001b[0;36m1\u001b[0m\u001b[0;34m)\u001b[0m\u001b[0;34m\u001b[0m\u001b[0;34m\u001b[0m\u001b[0m\n\u001b[1;32m      5\u001b[0m        \u001b[0max\u001b[0m\u001b[0;34m.\u001b[0m\u001b[0mimshow\u001b[0m\u001b[0;34m(\u001b[0m\u001b[0mconvolutions\u001b[0m\u001b[0;34m[\u001b[0m\u001b[0mi\u001b[0m\u001b[0;34m]\u001b[0m\u001b[0;34m,\u001b[0m \u001b[0mcmap\u001b[0m\u001b[0;34m=\u001b[0m\u001b[0;34m'gray'\u001b[0m\u001b[0;34m)\u001b[0m\u001b[0;34m\u001b[0m\u001b[0;34m\u001b[0m\u001b[0m\n",
      "\u001b[0;31mNameError\u001b[0m: name 'convolutions' is not defined"
     ]
    }
   ],
   "source": [
    " # Visualization of each filter of the layer\n",
    "    fig = plt.figure(figsize=(12,8))\n",
    "    for i in range(len(convolutions)):\n",
    "        ax = fig.add_subplot(n,n,i+1)\n",
    "        ax.imshow(convolutions[i], cmap='gray')"
   ]
  },
  {
   "cell_type": "code",
   "execution_count": 177,
   "metadata": {},
   "outputs": [
    {
     "data": {
      "image/png": "[encoded data removed]",
      "text/plain": [
       "<Figure size 1728x864 with 128 Axes>"
      ]
     },
     "metadata": {},
     "output_type": "display_data"
    }
   ],
   "source": [
    "fig = plt.figure(figsize=(24, 12))\n",
    "gs0 = gridspec.GridSpec(1, 2)\n",
    "gs00 = gridspec.GridSpecFromSubplotSpec(8, 8, subplot_spec=gs0[0])\n",
    "gs01 = gridspec.GridSpecFromSubplotSpec(8, 8, subplot_spec=gs0[1])\n",
    "\n",
    "for i in range(8):\n",
    "    for j in range(8):\n",
    "        ax00 = fig.add_subplot(gs00[i, j])\n",
    "        ax00.text(0.5, 0.5, '0_{}_{}'.format(i, j), ha='center')\n",
    "        ax00.set_xticks([])\n",
    "        ax00.set_yticks([])\n",
    "\n",
    "        ax01 = fig.add_subplot(gs01[i, j])\n",
    "        ax01.text(0.5, 0.5, '1_{}_{}'.format(i, j), ha='center')\n",
    "        ax01.set_xticks([])\n",
    "        ax01.set_yticks([])"
   ]
  },
  {
   "cell_type": "code",
   "execution_count": 175,
   "metadata": {},
   "outputs": [
    {
     "name": "stderr",
     "output_type": "stream",
     "text": [
      "/home/murlikrishnan/miniconda3/lib/python3.6/site-packages/matplotlib/figure.py:445: UserWarning: Matplotlib is currently using module://ipykernel.pylab.backend_inline, which is a non-GUI backend, so cannot show the figure.\n",
      "  % get_backend())\n"
     ]
    },
    {
     "data": {
      "image/png": "[encoded data removed]",
      "text/plain": [
       "<Figure size 720x576 with 8 Axes>"
      ]
     },
     "metadata": {},
     "output_type": "display_data"
    }
   ],
   "source": [
    "\n",
    "fig = plt.figure(figsize=(10, 8))\n",
    "outer = gridspec.GridSpec(2, 2, wspace=0.2, hspace=0.2)\n",
    "\n",
    "for i in range(4):\n",
    "    inner = gridspec.GridSpecFromSubplotSpec(2, 1,\n",
    "                    subplot_spec=outer[i], wspace=0.1, hspace=0.1)\n",
    "\n",
    "    for j in range(2):\n",
    "        ax = plt.Subplot(fig, inner[j])\n",
    "        t = ax.text(0.5,0.5, 'outer=%d, inner=%d' % (i,j))\n",
    "        t.set_ha('center')\n",
    "        ax.set_xticks([])\n",
    "        ax.set_yticks([])\n",
    "        fig.add_subplot(ax)\n",
    "\n",
    "fig.show()"
   ]
  },
  {
   "cell_type": "code",
   "execution_count": 116,
   "metadata": {},
   "outputs": [],
   "source": [
    "\n",
    "x16=Input(shape=(28,28,3,))\n",
    "x17=Conv2D(2,kernel_size=3,strides=1, padding='same',activation=None)(x16)\n",
    "x18=MaxPool2D()(x17)\n",
    "x19=BatchNormalization()(x18)\n",
    "x4=Conv2D(4,kernel_size=3,strides=1, padding='same',activation=None)(x19)\n",
    "x9=MaxPool2D()(x4)\n",
    "x6=BatchNormalization()(x9)\n",
    "x5=Conv2D(8,kernel_size=3,strides=1, padding='same',activation=None)(x6)\n",
    "x10=MaxPool2D()(x5)\n",
    "x8=BatchNormalization()(x10)\n",
    "x3=Conv2D(16,kernel_size=3,strides=1, padding='same',activation=None)(x8)\n",
    "x7=BatchNormalization()(x3)\n",
    "x12=Flatten()(x7)\n",
    "x13=Dense(10, activation=None)(x12)\n",
    "x22=Dense(10, activation=None)(x13)\n",
    "x21=Dense(10, activation=None)(x22)\n",
    "x14=Activation('softmax')(x21)\n",
    "model = Model(inputs=x16, outputs=x14)"
   ]
  },
  {
   "cell_type": "code",
   "execution_count": 117,
   "metadata": {},
   "outputs": [
    {
     "name": "stdout",
     "output_type": "stream",
     "text": [
      "_________________________________________________________________\n",
      "Layer (type)                 Output Shape              Param #   \n",
      "=================================================================\n",
      "input_8 (InputLayer)         (None, 28, 28, 3)         0         \n",
      "_________________________________________________________________\n",
      "conv2d_25 (Conv2D)           (None, 28, 28, 2)         56        \n",
      "_________________________________________________________________\n",
      "max_pooling2d_19 (MaxPooling (None, 14, 14, 2)         0         \n",
      "_________________________________________________________________\n",
      "batch_normalization_25 (Batc (None, 14, 14, 2)         8         \n",
      "_________________________________________________________________\n",
      "conv2d_26 (Conv2D)           (None, 14, 14, 4)         76        \n",
      "_________________________________________________________________\n",
      "max_pooling2d_20 (MaxPooling (None, 7, 7, 4)           0         \n",
      "_________________________________________________________________\n",
      "batch_normalization_26 (Batc (None, 7, 7, 4)           16        \n",
      "_________________________________________________________________\n",
      "conv2d_27 (Conv2D)           (None, 7, 7, 8)           296       \n",
      "_________________________________________________________________\n",
      "max_pooling2d_21 (MaxPooling (None, 3, 3, 8)           0         \n",
      "_________________________________________________________________\n",
      "batch_normalization_27 (Batc (None, 3, 3, 8)           32        \n",
      "_________________________________________________________________\n",
      "conv2d_28 (Conv2D)           (None, 3, 3, 16)          1168      \n",
      "_________________________________________________________________\n",
      "batch_normalization_28 (Batc (None, 3, 3, 16)          64        \n",
      "_________________________________________________________________\n",
      "flatten_7 (Flatten)          (None, 144)               0         \n",
      "_________________________________________________________________\n",
      "dense_22 (Dense)             (None, 10)                1450      \n",
      "_________________________________________________________________\n",
      "dense_23 (Dense)             (None, 10)                110       \n",
      "_________________________________________________________________\n",
      "dense_24 (Dense)             (None, 10)                110       \n",
      "_________________________________________________________________\n",
      "activation_7 (Activation)    (None, 10)                0         \n",
      "=================================================================\n",
      "Total params: 3,386\n",
      "Trainable params: 3,326\n",
      "Non-trainable params: 60\n",
      "_________________________________________________________________\n"
     ]
    }
   ],
   "source": [
    "model.summary()"
   ]
  },
  {
   "cell_type": "code",
   "execution_count": null,
   "metadata": {},
   "outputs": [],
   "source": []
  }
 ],
 "metadata": {
  "kernelspec": {
   "display_name": "Python 3",
   "language": "python",
   "name": "python3"
  },
  "language_info": {
   "codemirror_mode": {
    "name": "ipython",
    "version": 3
   },
   "file_extension": ".py",
   "mimetype": "text/x-python",
   "name": "python",
   "nbconvert_exporter": "python",
   "pygments_lexer": "ipython3",
   "version": "3.6.8"
  }
 },
 "nbformat": 4,
 "nbformat_minor": 2
}
